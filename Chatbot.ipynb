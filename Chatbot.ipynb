{
 "cells": [
  {
   "cell_type": "code",
   "execution_count": 1,
   "id": "bde96829",
   "metadata": {},
   "outputs": [
    {
     "name": "stderr",
     "output_type": "stream",
     "text": [
      "[nltk_data] Downloading package punkt to C:\\Users\\HARSH\n",
      "[nltk_data]     RANA\\AppData\\Roaming\\nltk_data...\n",
      "[nltk_data]   Package punkt is already up-to-date!\n"
     ]
    },
    {
     "data": {
      "text/html": [
       "\n",
       "        <iframe\n",
       "            width=\"100%\"\n",
       "            height=\"650\"\n",
       "            src=\"http://127.0.0.1:8050/\"\n",
       "            frameborder=\"0\"\n",
       "            allowfullscreen\n",
       "            \n",
       "        ></iframe>\n",
       "        "
      ],
      "text/plain": [
       "<IPython.lib.display.IFrame at 0x1e6681279d0>"
      ]
     },
     "metadata": {},
     "output_type": "display_data"
    }
   ],
   "source": [
    "import pandas as pd\n",
    "import nltk\n",
    "from sklearn.feature_extraction.text import TfidfVectorizer\n",
    "from sklearn.naive_bayes import MultinomialNB\n",
    "from sklearn.pipeline import make_pipeline\n",
    "from sklearn.model_selection import train_test_split\n",
    "import dash\n",
    "from dash import html,dcc\n",
    "from dash.dependencies import Input, Output\n",
    "\n",
    "#Importing the dataset for chatbot\n",
    "data = pd.read_csv('chatbot_dataset.csv')\n",
    "\n",
    "#Preprocess the data\n",
    "nltk.download('punkt')\n",
    "data['Question'] = data['Question'].apply(lambda x:' '.join(nltk.word_tokenize(x.lower())))\n",
    "\n",
    "#Splitting the data into training and test sets\n",
    "X_train, X_test, y_train, y_test = train_test_split(data['Question'], data['Answer'], test_size=0.2, random_state=42)\n",
    "\n",
    "#Create a model pipeline\n",
    "model = make_pipeline(TfidfVectorizer(), MultinomialNB())\n",
    "model.fit(X_train,y_train)\n",
    "\n",
    "def get_response(question):\n",
    "    question = ' '.join(nltk.word_tokenize(question.lower()))\n",
    "    answer = model.predict([question])[0]\n",
    "    return answer\n",
    "\n",
    "#Inititalizing dash\n",
    "app = dash.Dash(__name__)\n",
    "\n",
    "#Defining the layout\n",
    "app.layout = html.Div([\n",
    "    html.H1(\"Chatbot\", style={'text-align': 'center'}),\n",
    "    dcc.Textarea(\n",
    "        id='user-input',\n",
    "        value='Type your question here..',\n",
    "        style={'width':'100%', 'height':100}\n",
    "        ),     \n",
    "    html.Button('Submit',id='submit-button',n_clicks=0),\n",
    "    html.Div(id='chatbot-output', style={'padding':\"10px\"})\n",
    "])\n",
    "\n",
    "#Defining callback to update the output\n",
    "@app.callback(\n",
    "    Output('chatbot-output','children'),\n",
    "    Input('submit-button','n_clicks'),\n",
    "    [dash.dependencies.State('user-input','value')]\n",
    ")\n",
    "def update_output(n_clicks, user_input):\n",
    "    if n_clicks > 0:\n",
    "        response = get_response(user_input)\n",
    "        return html.Div([\n",
    "            html.P(f\"You: {user_input}\", style={'margin':'10px'}),\n",
    "            html.P(f\"Bot: {response}\", style={'margin':'10px', 'backgrounColo':'#f0f0f0','padding':'10px'})\n",
    "        ])\n",
    "    return \"Ask me something!\"\n",
    "\n",
    "#Run the app\n",
    "if __name__ == '__main__':\n",
    "    app.run(debug=True)"
   ]
  },
  {
   "cell_type": "code",
   "execution_count": null,
   "id": "f207db3d",
   "metadata": {},
   "outputs": [],
   "source": []
  }
 ],
 "metadata": {
  "kernelspec": {
   "display_name": "Python 3 (ipykernel)",
   "language": "python",
   "name": "python3"
  },
  "language_info": {
   "codemirror_mode": {
    "name": "ipython",
    "version": 3
   },
   "file_extension": ".py",
   "mimetype": "text/x-python",
   "name": "python",
   "nbconvert_exporter": "python",
   "pygments_lexer": "ipython3",
   "version": "3.9.12"
  }
 },
 "nbformat": 4,
 "nbformat_minor": 5
}
